{
 "cells": [
  {
   "cell_type": "code",
   "execution_count": 21,
   "metadata": {},
   "outputs": [
    {
     "name": "stdout",
     "output_type": "stream",
     "text": [
      "   ID Product Name   Category  Quantity  Unit Price   Sale Date    Store\n",
      "0   1         Milk  Household       NaN         NaN  2023-07-13  Store B\n",
      "1   2         Eggs        NaN      10.0         2.0  2023-07-10  Store A\n",
      "2   3          NaN      Dairy       NaN        -2.5  01.07.2023  Store A\n",
      "3   4       Apples    Produce      10.0         NaN  02.07.2023  Store A\n",
      "4   5         Milk      Dairy       3.0         1.5         NaN  Store C\n"
     ]
    }
   ],
   "source": [
    "import pandas as pd\n",
    "\n",
    "# Load the CSV file\n",
    "df = pd.read_csv(\"/Users/ulia/Desktop/sales-cleaning/store_sales_dirty_data.csv\")\n",
    "\n",
    "# Show the first few rows\n",
    "print(df.head())\n",
    "\n"
   ]
  },
  {
   "cell_type": "code",
   "execution_count": 22,
   "metadata": {},
   "outputs": [
    {
     "name": "stdout",
     "output_type": "stream",
     "text": [
      "<class 'pandas.core.frame.DataFrame'>\n",
      "RangeIndex: 30 entries, 0 to 29\n",
      "Data columns (total 7 columns):\n",
      " #   Column        Non-Null Count  Dtype  \n",
      "---  ------        --------------  -----  \n",
      " 0   ID            30 non-null     int64  \n",
      " 1   Product Name  27 non-null     object \n",
      " 2   Category      24 non-null     object \n",
      " 3   Quantity      21 non-null     float64\n",
      " 4   Unit Price    20 non-null     float64\n",
      " 5   Sale Date     22 non-null     object \n",
      " 6   Store         30 non-null     object \n",
      "dtypes: float64(2), int64(1), object(4)\n",
      "memory usage: 1.8+ KB\n"
     ]
    },
    {
     "data": {
      "text/html": [
       "<div>\n",
       "<style scoped>\n",
       "    .dataframe tbody tr th:only-of-type {\n",
       "        vertical-align: middle;\n",
       "    }\n",
       "\n",
       "    .dataframe tbody tr th {\n",
       "        vertical-align: top;\n",
       "    }\n",
       "\n",
       "    .dataframe thead th {\n",
       "        text-align: right;\n",
       "    }\n",
       "</style>\n",
       "<table border=\"1\" class=\"dataframe\">\n",
       "  <thead>\n",
       "    <tr style=\"text-align: right;\">\n",
       "      <th></th>\n",
       "      <th>ID</th>\n",
       "      <th>Product Name</th>\n",
       "      <th>Category</th>\n",
       "      <th>Quantity</th>\n",
       "      <th>Unit Price</th>\n",
       "      <th>Sale Date</th>\n",
       "      <th>Store</th>\n",
       "    </tr>\n",
       "  </thead>\n",
       "  <tbody>\n",
       "    <tr>\n",
       "      <th>count</th>\n",
       "      <td>30.000000</td>\n",
       "      <td>27</td>\n",
       "      <td>24</td>\n",
       "      <td>21.000000</td>\n",
       "      <td>20.000000</td>\n",
       "      <td>22</td>\n",
       "      <td>30</td>\n",
       "    </tr>\n",
       "    <tr>\n",
       "      <th>unique</th>\n",
       "      <td>NaN</td>\n",
       "      <td>7</td>\n",
       "      <td>5</td>\n",
       "      <td>NaN</td>\n",
       "      <td>NaN</td>\n",
       "      <td>18</td>\n",
       "      <td>3</td>\n",
       "    </tr>\n",
       "    <tr>\n",
       "      <th>top</th>\n",
       "      <td>NaN</td>\n",
       "      <td>Eggs</td>\n",
       "      <td>Dairy</td>\n",
       "      <td>NaN</td>\n",
       "      <td>NaN</td>\n",
       "      <td>2023/07/15</td>\n",
       "      <td>Store A</td>\n",
       "    </tr>\n",
       "    <tr>\n",
       "      <th>freq</th>\n",
       "      <td>NaN</td>\n",
       "      <td>6</td>\n",
       "      <td>8</td>\n",
       "      <td>NaN</td>\n",
       "      <td>NaN</td>\n",
       "      <td>4</td>\n",
       "      <td>15</td>\n",
       "    </tr>\n",
       "    <tr>\n",
       "      <th>mean</th>\n",
       "      <td>15.500000</td>\n",
       "      <td>NaN</td>\n",
       "      <td>NaN</td>\n",
       "      <td>6.142857</td>\n",
       "      <td>1.725000</td>\n",
       "      <td>NaN</td>\n",
       "      <td>NaN</td>\n",
       "    </tr>\n",
       "    <tr>\n",
       "      <th>std</th>\n",
       "      <td>8.803408</td>\n",
       "      <td>NaN</td>\n",
       "      <td>NaN</td>\n",
       "      <td>4.003570</td>\n",
       "      <td>1.875921</td>\n",
       "      <td>NaN</td>\n",
       "      <td>NaN</td>\n",
       "    </tr>\n",
       "    <tr>\n",
       "      <th>min</th>\n",
       "      <td>1.000000</td>\n",
       "      <td>NaN</td>\n",
       "      <td>NaN</td>\n",
       "      <td>0.000000</td>\n",
       "      <td>-2.500000</td>\n",
       "      <td>NaN</td>\n",
       "      <td>NaN</td>\n",
       "    </tr>\n",
       "    <tr>\n",
       "      <th>25%</th>\n",
       "      <td>8.250000</td>\n",
       "      <td>NaN</td>\n",
       "      <td>NaN</td>\n",
       "      <td>3.000000</td>\n",
       "      <td>1.500000</td>\n",
       "      <td>NaN</td>\n",
       "      <td>NaN</td>\n",
       "    </tr>\n",
       "    <tr>\n",
       "      <th>50%</th>\n",
       "      <td>15.500000</td>\n",
       "      <td>NaN</td>\n",
       "      <td>NaN</td>\n",
       "      <td>5.000000</td>\n",
       "      <td>1.750000</td>\n",
       "      <td>NaN</td>\n",
       "      <td>NaN</td>\n",
       "    </tr>\n",
       "    <tr>\n",
       "      <th>75%</th>\n",
       "      <td>22.750000</td>\n",
       "      <td>NaN</td>\n",
       "      <td>NaN</td>\n",
       "      <td>10.000000</td>\n",
       "      <td>3.750000</td>\n",
       "      <td>NaN</td>\n",
       "      <td>NaN</td>\n",
       "    </tr>\n",
       "    <tr>\n",
       "      <th>max</th>\n",
       "      <td>30.000000</td>\n",
       "      <td>NaN</td>\n",
       "      <td>NaN</td>\n",
       "      <td>10.000000</td>\n",
       "      <td>3.750000</td>\n",
       "      <td>NaN</td>\n",
       "      <td>NaN</td>\n",
       "    </tr>\n",
       "  </tbody>\n",
       "</table>\n",
       "</div>"
      ],
      "text/plain": [
       "               ID Product Name Category   Quantity  Unit Price   Sale Date  \\\n",
       "count   30.000000           27       24  21.000000   20.000000          22   \n",
       "unique        NaN            7        5        NaN         NaN          18   \n",
       "top           NaN         Eggs    Dairy        NaN         NaN  2023/07/15   \n",
       "freq          NaN            6        8        NaN         NaN           4   \n",
       "mean    15.500000          NaN      NaN   6.142857    1.725000         NaN   \n",
       "std      8.803408          NaN      NaN   4.003570    1.875921         NaN   \n",
       "min      1.000000          NaN      NaN   0.000000   -2.500000         NaN   \n",
       "25%      8.250000          NaN      NaN   3.000000    1.500000         NaN   \n",
       "50%     15.500000          NaN      NaN   5.000000    1.750000         NaN   \n",
       "75%     22.750000          NaN      NaN  10.000000    3.750000         NaN   \n",
       "max     30.000000          NaN      NaN  10.000000    3.750000         NaN   \n",
       "\n",
       "          Store  \n",
       "count        30  \n",
       "unique        3  \n",
       "top     Store A  \n",
       "freq         15  \n",
       "mean        NaN  \n",
       "std         NaN  \n",
       "min         NaN  \n",
       "25%         NaN  \n",
       "50%         NaN  \n",
       "75%         NaN  \n",
       "max         NaN  "
      ]
     },
     "execution_count": 22,
     "metadata": {},
     "output_type": "execute_result"
    }
   ],
   "source": [
    "df.info()\n",
    "df.describe(include='all')\n"
   ]
  },
  {
   "cell_type": "code",
   "execution_count": 23,
   "metadata": {},
   "outputs": [
    {
     "data": {
      "text/plain": [
       "ID               0\n",
       "Product Name     3\n",
       "Category         6\n",
       "Quantity         9\n",
       "Unit Price      10\n",
       "Sale Date        8\n",
       "Store            0\n",
       "dtype: int64"
      ]
     },
     "execution_count": 23,
     "metadata": {},
     "output_type": "execute_result"
    }
   ],
   "source": [
    "df.isnull().sum()#show the total number of missing values\n"
   ]
  },
  {
   "cell_type": "code",
   "execution_count": 24,
   "metadata": {},
   "outputs": [],
   "source": [
    "df = df.dropna()#remove rows with missing values\n"
   ]
  },
  {
   "cell_type": "code",
   "execution_count": 25,
   "metadata": {},
   "outputs": [
    {
     "name": "stdout",
     "output_type": "stream",
     "text": [
      "0\n"
     ]
    }
   ],
   "source": [
    "print(df.isna().sum().sum())  #show the total number of missing values\n",
    " \n"
   ]
  },
  {
   "cell_type": "code",
   "execution_count": 26,
   "metadata": {},
   "outputs": [
    {
     "name": "stdout",
     "output_type": "stream",
     "text": [
      "    ID Product Name   Category  Quantity  Unit Price   Sale Date    Store\n",
      "5    6        Bread     Bakery       5.0        3.75  2023/07/15  Store C\n",
      "10  11        Bread  Household       1.0        3.75  2023-07-08  Store A\n",
      "16  17         Eggs     Fruits      10.0        3.75  2023/07/15  Store B\n",
      "19  20         Soap      Dairy       0.0        1.50  29/07/2023  Store C\n",
      "22  23        Bread     Bakery       1.0        1.50  14/07/2023  Store A\n",
      "26  27         Milk  Household      10.0        1.50  07.07.2023  Store A\n",
      "27  28         Soap     Bakery      10.0        3.75  09.07.2023  Store A\n",
      "29  30         Eggs    Produce       0.0        2.00  2023-07-15  Store A\n"
     ]
    }
   ],
   "source": [
    "print(df)\n"
   ]
  },
  {
   "cell_type": "code",
   "execution_count": 27,
   "metadata": {},
   "outputs": [],
   "source": [
    "df = df[df['Quantity'] != 0]#remove 0 values\n"
   ]
  },
  {
   "cell_type": "code",
   "execution_count": 28,
   "metadata": {},
   "outputs": [
    {
     "name": "stdout",
     "output_type": "stream",
     "text": [
      "    ID Product Name   Category  Quantity  Unit Price   Sale Date    Store\n",
      "5    6        Bread     Bakery       5.0        3.75  2023/07/15  Store C\n",
      "10  11        Bread  Household       1.0        3.75  2023-07-08  Store A\n",
      "16  17         Eggs     Fruits      10.0        3.75  2023/07/15  Store B\n",
      "22  23        Bread     Bakery       1.0        1.50  14/07/2023  Store A\n",
      "26  27         Milk  Household      10.0        1.50  07.07.2023  Store A\n",
      "27  28         Soap     Bakery      10.0        3.75  09.07.2023  Store A\n"
     ]
    }
   ],
   "source": [
    "print(df)"
   ]
  },
  {
   "cell_type": "code",
   "execution_count": 29,
   "metadata": {},
   "outputs": [],
   "source": [
    "df['Total Sales'] = df['Quantity'] * df['Unit Price']#created new column"
   ]
  },
  {
   "cell_type": "code",
   "execution_count": 30,
   "metadata": {},
   "outputs": [
    {
     "name": "stdout",
     "output_type": "stream",
     "text": [
      "    ID Product Name   Category  Quantity  Unit Price   Sale Date    Store  \\\n",
      "5    6        Bread     Bakery       5.0        3.75  2023/07/15  Store C   \n",
      "10  11        Bread  Household       1.0        3.75  2023-07-08  Store A   \n",
      "16  17         Eggs     Fruits      10.0        3.75  2023/07/15  Store B   \n",
      "22  23        Bread     Bakery       1.0        1.50  14/07/2023  Store A   \n",
      "26  27         Milk  Household      10.0        1.50  07.07.2023  Store A   \n",
      "27  28         Soap     Bakery      10.0        3.75  09.07.2023  Store A   \n",
      "\n",
      "    Total Sales  \n",
      "5         18.75  \n",
      "10         3.75  \n",
      "16        37.50  \n",
      "22         1.50  \n",
      "26        15.00  \n",
      "27        37.50  \n"
     ]
    }
   ],
   "source": [
    "print(df)"
   ]
  },
  {
   "cell_type": "code",
   "execution_count": 33,
   "metadata": {},
   "outputs": [],
   "source": [
    "\n",
    "def standardize_date(date):#change date format\n",
    "   \n",
    "    date = date.replace('.', '/').replace('-', '/')\n",
    "    return date\n",
    "\n",
    "\n",
    "df['Sale Date'] = df['Sale Date'].apply(standardize_date)\n"
   ]
  },
  {
   "cell_type": "code",
   "execution_count": 34,
   "metadata": {},
   "outputs": [
    {
     "name": "stdout",
     "output_type": "stream",
     "text": [
      "    ID Product Name   Category  Quantity  Unit Price   Sale Date    Store  \\\n",
      "5    6        Bread     Bakery       5.0        3.75  2023/07/15  Store C   \n",
      "10  11        Bread  Household       1.0        3.75  2023/07/08  Store A   \n",
      "16  17         Eggs     Fruits      10.0        3.75  2023/07/15  Store B   \n",
      "22  23        Bread     Bakery       1.0        1.50  14/07/2023  Store A   \n",
      "26  27         Milk  Household      10.0        1.50  07/07/2023  Store A   \n",
      "27  28         Soap     Bakery      10.0        3.75  09/07/2023  Store A   \n",
      "\n",
      "    Total Sales  \n",
      "5         18.75  \n",
      "10         3.75  \n",
      "16        37.50  \n",
      "22         1.50  \n",
      "26        15.00  \n",
      "27        37.50  \n"
     ]
    }
   ],
   "source": [
    "print(df)"
   ]
  },
  {
   "cell_type": "code",
   "execution_count": 36,
   "metadata": {},
   "outputs": [],
   "source": [
    "df.to_csv('sales_data_with_total_sales.csv', index=False)\n",
    "\n",
    "\n"
   ]
  },
  {
   "cell_type": "code",
   "execution_count": 38,
   "metadata": {},
   "outputs": [
    {
     "data": {
      "image/png": "[encoded data removed]",
      "text/plain": [
       "<Figure size 800x500 with 1 Axes>"
      ]
     },
     "metadata": {},
     "output_type": "display_data"
    }
   ],
   "source": [
    "import matplotlib.pyplot as plt\n",
    "import seaborn as sns\n",
    "\n",
    "plt.figure(figsize=(8,5))\n",
    "sns.barplot(x='Category', y='Total Sales', data=df, estimator=sum, errorbar=None)\n",
    "plt.title('Total Sales by Product Category')\n",
    "plt.xlabel('Product Category')\n",
    "plt.ylabel('Total Sales ($)')\n",
    "plt.grid(axis='y')\n",
    "plt.show()\n"
   ]
  }
 ],
 "metadata": {
  "kernelspec": {
   "display_name": "Python 3",
   "language": "python",
   "name": "python3"
  },
  "language_info": {
   "codemirror_mode": {
    "name": "ipython",
    "version": 3
   },
   "file_extension": ".py",
   "mimetype": "text/x-python",
   "name": "python",
   "nbconvert_exporter": "python",
   "pygments_lexer": "ipython3",
   "version": "3.12.6"
  }
 },
 "nbformat": 4,
 "nbformat_minor": 2
}
